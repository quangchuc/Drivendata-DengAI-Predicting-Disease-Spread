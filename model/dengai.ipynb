{
 "cells": [
  {
   "cell_type": "code",
   "execution_count": 1,
   "metadata": {
    "_cell_guid": "b1076dfc-b9ad-4769-8c92-a6c4dae69d19",
    "_uuid": "8f2839f25d086af736a60e9eeb907d3b93b6e0e5",
    "execution": {
     "iopub.execute_input": "2020-11-17T15:51:23.507171Z",
     "iopub.status.busy": "2020-11-17T15:51:23.506325Z",
     "iopub.status.idle": "2020-11-17T15:51:23.514501Z",
     "shell.execute_reply": "2020-11-17T15:51:23.513672Z"
    },
    "papermill": {
     "duration": 0.02246,
     "end_time": "2020-11-17T15:51:23.514646",
     "exception": false,
     "start_time": "2020-11-17T15:51:23.492186",
     "status": "completed"
    },
    "tags": []
   },
   "outputs": [
    {
     "name": "stdout",
     "output_type": "stream",
     "text": [
      "/kaggle/input/dengai-predicting-disease-spread/dengue_features_test.csv\n",
      "/kaggle/input/dengai-predicting-disease-spread/dengue_features_train.csv\n",
      "/kaggle/input/dengai-predicting-disease-spread/submission_format.csv\n",
      "/kaggle/input/dengai-predicting-disease-spread/dengue_labels_train.csv\n"
     ]
    }
   ],
   "source": [
    "import numpy as np \n",
    "import pandas as pd \n",
    "\n",
    "import os\n",
    "for dirname, _, filenames in os.walk('/kaggle/input'):\n",
    "    for filename in filenames:\n",
    "        print(os.path.join(dirname, filename))"
   ]
  },
  {
   "cell_type": "code",
   "execution_count": 2,
   "metadata": {
    "_cell_guid": "79c7e3d0-c299-4dcb-8224-4455121ee9b0",
    "_uuid": "d629ff2d2480ee46fbb7e2d37f6b5fab8052498a",
    "execution": {
     "iopub.execute_input": "2020-11-17T15:51:23.540481Z",
     "iopub.status.busy": "2020-11-17T15:51:23.539569Z",
     "iopub.status.idle": "2020-11-17T15:51:23.583974Z",
     "shell.execute_reply": "2020-11-17T15:51:23.583262Z"
    },
    "papermill": {
     "duration": 0.060492,
     "end_time": "2020-11-17T15:51:23.584121",
     "exception": false,
     "start_time": "2020-11-17T15:51:23.523629",
     "status": "completed"
    },
    "tags": []
   },
   "outputs": [],
   "source": [
    "X = pd.read_csv('../input/dengai-predicting-disease-spread/dengue_features_train.csv')\n",
    "y = pd.read_csv('../input/dengai-predicting-disease-spread/dengue_labels_train.csv')\n",
    "X_test = pd.read_csv('../input/dengai-predicting-disease-spread/dengue_features_test.csv')\n",
    "if ('week_start_date' in X.columns): \n",
    "    X = X.drop(['week_start_date'], axis=1) \n",
    "    X_test = X_test.drop(['week_start_date'], axis=1)"
   ]
  },
  {
   "cell_type": "code",
   "execution_count": 3,
   "metadata": {
    "execution": {
     "iopub.execute_input": "2020-11-17T15:51:23.613812Z",
     "iopub.status.busy": "2020-11-17T15:51:23.612983Z",
     "iopub.status.idle": "2020-11-17T15:51:34.401573Z",
     "shell.execute_reply": "2020-11-17T15:51:34.400207Z"
    },
    "papermill": {
     "duration": 10.811181,
     "end_time": "2020-11-17T15:51:34.401775",
     "exception": false,
     "start_time": "2020-11-17T15:51:23.590594",
     "status": "completed"
    },
    "tags": []
   },
   "outputs": [
    {
     "name": "stdout",
     "output_type": "stream",
     "text": [
      "19.44691305371181\n"
     ]
    }
   ],
   "source": [
    "from sklearn.preprocessing import StandardScaler, OneHotEncoder\n",
    "from sklearn.impute import SimpleImputer\n",
    "from sklearn.compose import ColumnTransformer \n",
    "from sklearn.pipeline import Pipeline\n",
    "from xgboost import XGBRegressor\n",
    "from sklearn.ensemble import RandomForestRegressor\n",
    "\n",
    "    \n",
    "num_cols = [col for col in X.columns if X[col].dtypes in ['int64', 'float64']]\n",
    "cat_cols = [col for col in X.columns if X[col].dtypes in ['object']]\n",
    "num_transformer = Pipeline(steps=[('standardscaler', StandardScaler()), \n",
    "                                  ('impute', SimpleImputer(strategy='most_frequent'))])\n",
    "cat_transformer = Pipeline(steps=[('impute', SimpleImputer(strategy='most_frequent')), \n",
    "                                  ('onehot', OneHotEncoder(handle_unknown='ignore'))])\n",
    "preprocessor = ColumnTransformer(transformers = [('num_transformer', num_transformer, num_cols), \n",
    "                                                 ('cat_transformer', cat_transformer, cat_cols)])\n",
    "xgb = XGBRegressor(n_estimators = 1000, \n",
    "                     learning_rate=0.01, \n",
    "                     max_depth=5, \n",
    "                     subsample=0.8,\n",
    "                     colsample_bytree=1, \n",
    "                     gamma=1)\n",
    "rf = RandomForestRegressor(n_estimators=100)\n",
    "pipeline = Pipeline(steps=[('preprocessor', preprocessor), \n",
    "                           ('model', rf)])\n",
    "from sklearn.metrics import mean_absolute_error\n",
    "from sklearn.model_selection import cross_val_score\n",
    "\n",
    "scores = -1*cross_val_score(pipeline, X, y['total_cases'], \n",
    "                            cv=5, \n",
    "                            scoring='neg_mean_absolute_error')\n",
    "print(scores.mean())"
   ]
  },
  {
   "cell_type": "code",
   "execution_count": 4,
   "metadata": {
    "execution": {
     "iopub.execute_input": "2020-11-17T15:51:34.430338Z",
     "iopub.status.busy": "2020-11-17T15:51:34.429462Z",
     "iopub.status.idle": "2020-11-17T15:51:36.862526Z",
     "shell.execute_reply": "2020-11-17T15:51:36.861124Z"
    },
    "papermill": {
     "duration": 2.453572,
     "end_time": "2020-11-17T15:51:36.862853",
     "exception": false,
     "start_time": "2020-11-17T15:51:34.409281",
     "status": "completed"
    },
    "tags": []
   },
   "outputs": [],
   "source": [
    "pipeline.fit(X, y['total_cases'])\n",
    "preds = pipeline.predict(X_test)\n",
    "preds_int = preds.round(0).astype(int)\n",
    "output = pd.DataFrame({'city': X_test['city'], \n",
    "                       'year': X_test['year'],\n",
    "                       'weekofyear': X_test['weekofyear'], \n",
    "                       'total_cases': preds_int})\n",
    "output.to_csv('submission.csv', index=False)"
   ]
  },
  {
   "cell_type": "code",
   "execution_count": null,
   "metadata": {
    "papermill": {
     "duration": 0.006751,
     "end_time": "2020-11-17T15:51:36.877791",
     "exception": false,
     "start_time": "2020-11-17T15:51:36.871040",
     "status": "completed"
    },
    "tags": []
   },
   "outputs": [],
   "source": []
  }
 ],
 "metadata": {
  "kernelspec": {
   "display_name": "Python 3",
   "language": "python",
   "name": "python3"
  },
  "language_info": {
   "codemirror_mode": {
    "name": "ipython",
    "version": 3
   },
   "file_extension": ".py",
   "mimetype": "text/x-python",
   "name": "python",
   "nbconvert_exporter": "python",
   "pygments_lexer": "ipython3",
   "version": "3.7.6"
  },
  "papermill": {
   "duration": 18.657716,
   "end_time": "2020-11-17T15:51:36.994742",
   "environment_variables": {},
   "exception": null,
   "input_path": "__notebook__.ipynb",
   "output_path": "__notebook__.ipynb",
   "parameters": {},
   "start_time": "2020-11-17T15:51:18.337026",
   "version": "2.1.0"
  }
 },
 "nbformat": 4,
 "nbformat_minor": 4
}
